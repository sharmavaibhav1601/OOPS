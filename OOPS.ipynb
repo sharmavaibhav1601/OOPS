{
  "nbformat": 4,
  "nbformat_minor": 0,
  "metadata": {
    "colab": {
      "provenance": []
    },
    "kernelspec": {
      "name": "python3",
      "display_name": "Python 3"
    },
    "language_info": {
      "name": "python"
    }
  },
  "cells": [
    {
      "cell_type": "markdown",
      "source": [
        "#OOPS\n",
        "#Python OOPS Questions"
      ],
      "metadata": {
        "id": "_2lb-RmSLTmy"
      }
    },
    {
      "cell_type": "markdown",
      "source": [
        "1. What is Object-Oriented Programming (OOP)?\n",
        "-> Object-Oriented Programming (OOP) is a programming paradigm that uses \"objects\" to represent data and methods. It emphasizes concepts such as encapsulation, inheritance, and polymorphism, allowing for modular, reusable, and organized code.\n",
        "\n",
        "2. What is a class in OOP?\n",
        "-> A class is a blueprint for creating objects. It defines attributes (data) and methods (functions) that the created objects will have. Classes encapsulate data for the object and provide methods to manipulate that data.\n",
        "\n",
        "3. What is an object in OOP?\n",
        "-> An object is an instance of a class. It contains real values for the attributes defined in the class and can use the methods defined by the class to perform actions.\n",
        "\n",
        "4. What is the difference between abstraction and encapsulation?\n",
        "-> Abstraction** hides complex implementation details and shows only the essential features of an object. It focuses on \"what\" an object does.\n",
        "Encapsulation** bundles data and methods that operate on that data into a single unit (class) and restricts access to some components. It focuses on \"how\" the data is accessed and modified.\n",
        "\n",
        "5. What are dunder methods in Python?\n",
        "-> Dunder methods (double underscore methods) are special methods in Python that allow you to define the behavior of objects for built-in operations. Examples include init (constructor), str (string representation), and add (addition).\n",
        "\n",
        "6. Explain the concept of inheritance in OOP.\n",
        "-> Inheritance is a mechanism where a new class (subclass) can inherit attributes and methods from an existing class (superclass). This promotes code reuse and establishes a hierarchical relationship between classes.\n",
        "\n",
        "7. What is polymorphism in OOP?\n",
        "-> Polymorphism allows objects of different classes to be treated as objects of a common superclass. It enables a single interface to represent different underlying forms (data types). In Python, this is often achieved through method overriding and operator overloading.\n",
        "\n",
        "8. How is encapsulation achieved in Python?\n",
        "-> Encapsulation in Python is achieved by defining class attributes as private (using a single or double underscore) and providing public methods (getters and setters) to access and modify these attributes.\n",
        "\n",
        "9. What is a constructor in Python?\n",
        "-> A constructor in Python is a special method called init() that is automatically invoked when an object of a class is created. It initializes the object's attributes.\n",
        "\n",
        "10. What are class and static methods in Python?\n",
        "-> Class methods** are methods that receive the class as the first argument (usually named cls). They are defined using the @classmethod decorator and can access class variables.\n",
        "Static methods** do not receive an implicit first argument and are defined using the @staticmethod decorator. They cannot access or modify class or instance state.\n",
        "\n",
        "11. What is method overloading in Python?\n",
        "-> Method overloading allows multiple methods with the same name to exist in a class, differentiated by the number or type of their parameters. However, Python does not support traditional method overloading; instead, it can be simulated using default arguments or variable-length arguments.\n",
        "\n",
        "12. What is method overriding in OOP?\n",
        "-> Method overriding occurs when a subclass provides a specific implementation of a method that is already defined in its superclass. This allows the subclass to modify or extend the behavior of the inherited method.\n",
        "\n",
        "13. What is a property decorator in Python?\n",
        "-> The property decorator in Python is used to define a method as a property, allowing you to access it like an attribute. It provides a way to manage the access to an attribute, enabling getter, setter, and deleter functionality.\n",
        "\n",
        "14. Why is polymorphism important in OOP?\n",
        "-> Polymorphism is important because it allows for flexibility and the ability to use a unified interface for different data types. This leads to more maintainable and extensible code, as new classes can be added with minimal changes to existing code.\n",
        "\n",
        "15. What is an abstract class in Python?\n",
        "-> An abstract class in Python is a class that cannot be instantiated and is meant to be subclassed. It can define abstract methods that must be implemented by its subclasses. Abstract classes are defined using the abc module.\n",
        "\n",
        "16. What are the advantages of OOP?\n",
        "-> Advantages of OOP include:\n",
        "\n",
        "1.Modularity: Code is organized into classes, making it easier to manage.\n",
        "\n",
        "2.Reusability: Classes can be reused across different programs.\n",
        "\n",
        "3.Maintainability: Changes in one part of the code can be made with minimal impact on other parts.\n",
        "\n",
        "4.Encapsulation: Data is protected from unauthorized access.\n",
        "\n",
        "5.Abstraction: Complexity is hidden, allowing users to interact with objects without needing to understand their internal workings.\n",
        "\n",
        "17. What is the difference between a class variable and an instance variable?\n",
        "\n",
        "-> Class variables are shared across all instances of a class and are defined within the class but outside any instance methods on the other hand instance variables are unique to each instance of a class and are defined within instance methods, typically in the constructor.\n",
        "\n",
        "18. What is multiple inheritance in Python?\n",
        "-> Multiple inheritance is a feature in Python where a class can inherit from more than one superclass. This allows the subclass to access attributes and methods from multiple parent classes, but it can lead to complexity and ambiguity (the \"diamond problem\").\n",
        "\n",
        "19. Explain the purpose of str and repr methods in Python.\n",
        "\n",
        "1.str: Defines a user-friendly string representation of an object, used by the print() function.\n",
        "\n",
        "2.repr: Defines an unambiguous string representation of an object, used for debugging and logging. It should ideally return a string that can be used to recreate the object.\n",
        "\n",
        "20. What is the significance of the super() function in Python?\n",
        "-> The super() function is used to call methods from a parent class in a subclass. It allows you to access inherited methods that have been overridden in a subclass, facilitating code reuse and maintaining the method resolution order (MRO).\n",
        "\n",
        "21. What is the significance of the del method in Python?\n",
        "-> The del method is a destructor that is called when an object is about to be destroyed. It can be used to perform cleanup actions, such as closing files or releasing resources, but its use is generally discouraged due to the unpredictability of its invocation.\n",
        "\n",
        "22. What is the difference between staticmethod and classmethod in Python?\n",
        "-> staticmethod: A method that does not receive an implicit first argument (neither self nor cls). It behaves like a regular function but belongs to the class's namespace.\n",
        "\n",
        "classmethod: A method that receives the class as the first argument (cls). It can access class variables and methods and is defined using the @classmethod decorator.\n",
        "\n",
        "23. How does polymorphism work in Python with inheritance?\n",
        "-> Polymorphism in Python allows methods to be defined in a base class and overridden in derived classes. When a method is called on an object, Python determines which method to execute based on the object's actual class, allowing different classes to define their own behaviors for the same method name.\n",
        "\n",
        "24. What is method chaining in Python OOP?\n",
        "-> Method chaining is a technique where multiple method calls are made on the same object in a single statement. Each method returns the object itself (usually self), allowing for a sequence of operations to be performed in a concise manner.\n",
        "\n",
        "25. What is the purpose of the call method in Python?\n",
        "-> The call method allows an instance of a class to be called as if it were a function. By defining this method, you can make objects behave like callable functions, enabling more flexible and intuitive code design."
      ],
      "metadata": {
        "id": "XcCnzqxuLeQJ"
      }
    },
    {
      "cell_type": "markdown",
      "source": [
        "#Practical Questons"
      ],
      "metadata": {
        "id": "huZRhR8CTpjK"
      }
    },
    {
      "cell_type": "code",
      "source": [
        "#1. Create a parent class Animal with a method speak() that prints a generic message. Create a child class Dog that overrides the speak() method to print \"Bark!\".\n",
        "class Animal:\n",
        "    def speak(self):\n",
        "        print(\"Animal speaks\")\n",
        "\n",
        "class Dog(Animal):\n",
        "    def speak(self):\n",
        "        print(\"Bark!\")\n",
        "\n",
        "#Example usage\n",
        "dog = Dog()\n",
        "dog.speak()\n"
      ],
      "metadata": {
        "colab": {
          "base_uri": "https://localhost:8080/"
        },
        "id": "FAr3YdoqK4aQ",
        "outputId": "9b039cf8-d5f4-453a-cf53-f68bcb9d968b"
      },
      "execution_count": 8,
      "outputs": [
        {
          "output_type": "stream",
          "name": "stdout",
          "text": [
            "Bark!\n"
          ]
        }
      ]
    },
    {
      "cell_type": "code",
      "source": [
        "#2. Write a program to create an abstract class Shape with a method area(). Derive classes Circle and Rectangle from it and implement the area() method in both.\n",
        "from abc import ABC, abstractmethod\n",
        "import math\n",
        "\n",
        "class Shape(ABC):\n",
        "    @abstractmethod\n",
        "    def area(self):\n",
        "        pass\n",
        "\n",
        "class Circle(Shape):\n",
        "    def __init__(self, radius):\n",
        "        self.radius = radius\n",
        "\n",
        "    def area(self):\n",
        "        return math.pi * self.radius ** 2\n",
        "\n",
        "class Rectangle(Shape):\n",
        "    def __init__(self, width, height):\n",
        "        self.width = width\n",
        "        self.height = height\n",
        "\n",
        "    def area(self):\n",
        "        return self.width * self.height\n",
        "\n",
        "#Example usage\n",
        "circle = Circle(5)\n",
        "rectangle = Rectangle(4, 6)\n",
        "print(circle.area())\n",
        "print(rectangle.area())"
      ],
      "metadata": {
        "colab": {
          "base_uri": "https://localhost:8080/"
        },
        "id": "bNtzWI_3LDby",
        "outputId": "efa2f8bd-3f58-4c27-fbc4-a6eae6d3018f"
      },
      "execution_count": 4,
      "outputs": [
        {
          "output_type": "stream",
          "name": "stdout",
          "text": [
            "78.53981633974483\n",
            "24\n"
          ]
        }
      ]
    },
    {
      "cell_type": "code",
      "source": [
        "#3. Implement a multi-level inheritance scenario where a class Vehicle has an attribute type. Derive a class Car and further derive a class ElectricCar that adds a battery attribute.\n",
        "class Vehicle:\n",
        "    def __init__(self, vehicle_type):\n",
        "        self.vehicle_type = vehicle_type\n",
        "\n",
        "class Car(Vehicle):\n",
        "    def __init__(self, vehicle_type, brand):\n",
        "        super().__init__(vehicle_type)\n",
        "        self.brand = brand\n",
        "\n",
        "class ElectricCar(Car):\n",
        "    def __init__(self, vehicle_type, brand, battery_capacity):\n",
        "        super().__init__(vehicle_type, brand)\n",
        "        self.battery_capacity = battery_capacity\n",
        "\n",
        "#Example usage\n",
        "electric_car = ElectricCar(\"Electric\", \"Tesla\", \"100 kWh\")\n",
        "print(electric_car.vehicle_type)  # Output: Electric\n",
        "print(electric_car.brand)  # Output: Tesla\n",
        "print(electric_car.battery_capacity)  # Output: 100 kWh"
      ],
      "metadata": {
        "colab": {
          "base_uri": "https://localhost:8080/"
        },
        "id": "Has4uKzZLWow",
        "outputId": "0e606ba1-1077-4b39-80c1-77449bf1fe27"
      },
      "execution_count": 11,
      "outputs": [
        {
          "output_type": "stream",
          "name": "stdout",
          "text": [
            "Electric\n",
            "Tesla\n",
            "100 kWh\n"
          ]
        }
      ]
    },
    {
      "cell_type": "code",
      "source": [
        "#4. Implement a multi-level inheritance scenario where a class Vehicle has an attribute type. Derive a class Car and further derive a class ElectricCar that adds a battery attribute.\n",
        "class Vehicle:\n",
        "    def __init__(self, vehicle_type):\n",
        "        self.vehicle_type = vehicle_type\n",
        "\n",
        "class Car(Vehicle):\n",
        "    def __init__(self, vehicle_type, brand):\n",
        "        super().__init__(vehicle_type)\n",
        "        self.brand = brand\n",
        "\n",
        "class ElectricCar(Car):\n",
        "    def __init__(self, vehicle_type, brand, battery_capacity):\n",
        "        super().__init__(vehicle_type, brand)\n",
        "        self.battery_capacity = battery_capacity\n",
        "\n",
        "#Example usage\n",
        "electric_car = ElectricCar(\"Electric\", \"Tesla\", \"100 kWh\")\n",
        "print(electric_car.vehicle_type)  # Output: Electric\n",
        "print(electric_car.brand)  # Output: Tesla\n",
        "print(electric_car.battery_capacity)  # Output: 100 kWh"
      ],
      "metadata": {
        "colab": {
          "base_uri": "https://localhost:8080/"
        },
        "id": "CxcbAIw7Ljur",
        "outputId": "962841c6-7ec7-4c21-b86b-59543335e628"
      },
      "execution_count": 14,
      "outputs": [
        {
          "output_type": "stream",
          "name": "stdout",
          "text": [
            "Electric\n",
            "Tesla\n",
            "100 kWh\n"
          ]
        }
      ]
    },
    {
      "cell_type": "code",
      "source": [
        "#5. Write a program to demonstrate encapsulation by creating a class BankAccount with private attributes balance and methods to deposit, withdraw, and check balance.\n",
        "class BankAccount:\n",
        "    def __init__(self, initial_balance=0):\n",
        "        self.__balance = initial_balance\n",
        "\n",
        "    def deposit(self, amount):\n",
        "        if amount > 0:\n",
        "            self.__balance += amount\n",
        "\n",
        "    def withdraw(self, amount):\n",
        "        if 0 < amount <= self.__balance:\n",
        "            self.__balance -= amount\n",
        "\n",
        "    def get_balance(self):\n",
        "        return self.__balance\n",
        "\n",
        "#Example usage\n",
        "account = BankAccount(100)\n",
        "account.deposit(50)\n",
        "account.withdraw(30)\n",
        "print(account.get_balance())  # Output: 120"
      ],
      "metadata": {
        "colab": {
          "base_uri": "https://localhost:8080/"
        },
        "id": "xdY4GYG3LyvG",
        "outputId": "49eabcc1-a4c0-441a-b27e-d044ee39a7eb"
      },
      "execution_count": 15,
      "outputs": [
        {
          "output_type": "stream",
          "name": "stdout",
          "text": [
            "120\n"
          ]
        }
      ]
    },
    {
      "cell_type": "code",
      "source": [
        "#6. Demonstrate runtime polymorphism using a method play() in a base class Instrument. Derive classes Guitar and Piano that implement their own version of play().\n",
        "class Instrument:\n",
        "    def play(self):\n",
        "        print(\"Playing instrument\")\n",
        "\n",
        "class Guitar(Instrument):\n",
        "    def play(self):\n",
        "        print(\"Playing guitar\")\n",
        "\n",
        "class Piano(Instrument):\n",
        "    def play(self):\n",
        "        print(\"Playing piano\")\n",
        "\n",
        "#Example usage\n",
        "instruments = [Guitar(), Piano()]\n",
        "for instrument in instruments:\n",
        "    instrument.play()"
      ],
      "metadata": {
        "colab": {
          "base_uri": "https://localhost:8080/"
        },
        "id": "W6riRLk6MDqD",
        "outputId": "d2120a9a-aab2-4a6e-fa8f-def809d8c033"
      },
      "execution_count": 17,
      "outputs": [
        {
          "output_type": "stream",
          "name": "stdout",
          "text": [
            "Playing guitar\n",
            "Playing piano\n"
          ]
        }
      ]
    },
    {
      "cell_type": "code",
      "source": [
        "#7. Create a class MathOperations with a class method add_numbers() to add two numbers and a static method subtract_numbers() to subtract two numbers.\n",
        "class MathOperations:\n",
        "    @classmethod\n",
        "    def add_numbers(cls, a, b):\n",
        "        return a + b\n",
        "\n",
        "    @staticmethod\n",
        "    def subtract_numbers(a, b):\n",
        "        return a - b\n",
        "\n",
        "#Example usage\n",
        "print(MathOperations.add_numbers(5, 3))  # Output: 8\n",
        "print(MathOperations.subtract_numbers(5, 3))  # Output: 2"
      ],
      "metadata": {
        "colab": {
          "base_uri": "https://localhost:8080/"
        },
        "id": "l3sBG9OVMRXt",
        "outputId": "9e104aa4-ad70-4f04-8030-74dbd1e08694"
      },
      "execution_count": 18,
      "outputs": [
        {
          "output_type": "stream",
          "name": "stdout",
          "text": [
            "8\n",
            "2\n"
          ]
        }
      ]
    },
    {
      "cell_type": "code",
      "source": [
        "#8. Implement a class Person with a class method to count the total number of persons created.\n",
        "class Person:\n",
        "    count = 0\n",
        "\n",
        "    def __init__(self, name):\n",
        "        self.name = name\n",
        "        Person.count += 1\n",
        "\n",
        "    @classmethod\n",
        "    def get_count(cls):\n",
        "        return cls.count\n",
        "\n",
        "#Example usage\n",
        "p1 = Person(\"Alice\")\n",
        "p2 = Person(\"Bob\")\n",
        "print(Person.get_count())  # Output: 2"
      ],
      "metadata": {
        "colab": {
          "base_uri": "https://localhost:8080/"
        },
        "id": "mHQVH1PuMdcT",
        "outputId": "229d507a-fc6d-42b7-e03d-32e90efa0b12"
      },
      "execution_count": 19,
      "outputs": [
        {
          "output_type": "stream",
          "name": "stdout",
          "text": [
            "2\n"
          ]
        }
      ]
    },
    {
      "cell_type": "code",
      "source": [
        "#9. Write a class Fraction with attributes numerator and denominator. Override the str method to display the fraction as \"numerator/denominator\".\n",
        "class Fraction:\n",
        "    def __init__(self, numerator, denominator):\n",
        "        self.numerator = numerator\n",
        "        self.denominator = denominator\n",
        "\n",
        "    def str(self):\n",
        "        return f\"{self.numerator}/{self.denominator}\"\n",
        "\n",
        "#Example usage\n",
        "fraction = Fraction(3, 4)\n",
        "print(fraction)  # Output: 3/4"
      ],
      "metadata": {
        "colab": {
          "base_uri": "https://localhost:8080/"
        },
        "id": "zWYKxpHpMmlj",
        "outputId": "3dafe3f2-da4d-4579-b063-124c1421b544"
      },
      "execution_count": 21,
      "outputs": [
        {
          "output_type": "stream",
          "name": "stdout",
          "text": [
            "<__main__.Fraction object at 0x7c7f9868f190>\n"
          ]
        }
      ]
    },
    {
      "cell_type": "code",
      "source": [
        "#10. Demonstrate operator overloading by creating a class Vector and overriding the add method to add two vectors.\n",
        "class Vector:\n",
        "    def __init__(self, x, y):\n",
        "        self.x = x\n",
        "        self.y = y\n",
        "\n",
        "    def __add__(self, other):\n",
        "        return Vector(self.x + other.x, self.y + other.y)\n",
        "\n",
        "    def __str__(self):\n",
        "        return f\"Vector({self.x}, {self.y})\"\n",
        "\n",
        "# Example usage\n",
        "v1 = Vector(1, 2)\n",
        "v2 = Vector(3, 4)\n",
        "v3 = v1 + v2\n",
        "print(v3)  # Output: Vector(4, 6)"
      ],
      "metadata": {
        "colab": {
          "base_uri": "https://localhost:8080/"
        },
        "id": "9WIrYLaRMx6B",
        "outputId": "67b3ba86-988a-4fb8-dd4e-855fb7c8a8aa"
      },
      "execution_count": 23,
      "outputs": [
        {
          "output_type": "stream",
          "name": "stdout",
          "text": [
            "Vector(4, 6)\n"
          ]
        }
      ]
    },
    {
      "cell_type": "code",
      "source": [
        "#11. Create a class Person with attributes name and age. Add a method greet() that prints \"Hello, my name is {name} and I am {age} years old.\"\n",
        "class Person:\n",
        "    def __init__(self, name, age):\n",
        "        self.name = name\n",
        "        self.age = age\n",
        "\n",
        "    def greet(self):\n",
        "        print(f\"Hello, my name is {self.name} and I am {self.age} years old.\")\n",
        "\n",
        "#Example usage\n",
        "person = Person(\"Alice\", 30)\n",
        "person.greet()"
      ],
      "metadata": {
        "colab": {
          "base_uri": "https://localhost:8080/"
        },
        "id": "KiU-MA-vNC9m",
        "outputId": "3a5cf874-0938-40f4-db64-c5e376b268b4"
      },
      "execution_count": 24,
      "outputs": [
        {
          "output_type": "stream",
          "name": "stdout",
          "text": [
            "Hello, my name is Alice and I am 30 years old.\n"
          ]
        }
      ]
    },
    {
      "cell_type": "code",
      "source": [
        "#12. Implement a class Student with attributes name and grades. Create a method average_grade() to compute the average of the grades.\n",
        "class Student:\n",
        "    def __init__(self, name, grades):\n",
        "        self.name = name\n",
        "        self.grades = grades\n",
        "\n",
        "    def average_grade(self):\n",
        "        return sum(self.grades) / len(self.grades)\n",
        "\n",
        "#Example usage\n",
        "student = Student(\"Bob\", [90, 80, 85, 95])\n",
        "print(student.average_grade())  # Output: 87.5"
      ],
      "metadata": {
        "colab": {
          "base_uri": "https://localhost:8080/"
        },
        "id": "-zTN0s-GNV5k",
        "outputId": "80d43549-424f-47bd-bed6-2f460f57d7ed"
      },
      "execution_count": 25,
      "outputs": [
        {
          "output_type": "stream",
          "name": "stdout",
          "text": [
            "87.5\n"
          ]
        }
      ]
    },
    {
      "cell_type": "code",
      "source": [
        "#13. Create a class Rectangle with methods set_dimensions() to set the dimensions and area() to calculate the area.\n",
        "class Rectangle:\n",
        "    def set_dimensions(self, width, height):\n",
        "        self.width = width\n",
        "        self.height = height\n",
        "\n",
        "    def area(self):\n",
        "        return self.width * self.height\n",
        "\n",
        "#Example usage\n",
        "rectangle = Rectangle()\n",
        "rectangle.set_dimensions(4, 5)\n",
        "print(rectangle.area())  # Output: 20"
      ],
      "metadata": {
        "colab": {
          "base_uri": "https://localhost:8080/"
        },
        "id": "L-qNACl9NgEr",
        "outputId": "05c53b88-d64b-467d-9d28-f1ee684a71d2"
      },
      "execution_count": 26,
      "outputs": [
        {
          "output_type": "stream",
          "name": "stdout",
          "text": [
            "20\n"
          ]
        }
      ]
    },
    {
      "cell_type": "code",
      "source": [
        "#14. Create a class Employee with a method calculate_salary() that computes the salary based on hours worked and hourly rate. Create a derived class Manager that adds a bonus to the salary.\n",
        "class Employee:\n",
        "    def __init__(self, hours_worked, hourly_rate):\n",
        "        self.hours_worked = hours_worked\n",
        "        self.hourly_rate = hourly_rate\n",
        "\n",
        "    def calculate_salary(self):\n",
        "        return self.hours_worked * self.hourly_rate\n",
        "\n",
        "class Manager(Employee):\n",
        "    def __init__(self, hours_worked, hourly_rate, bonus):\n",
        "        super().__init__(hours_worked, hourly_rate)\n",
        "        self.bonus = bonus\n",
        "\n",
        "    def calculate_salary(self):\n",
        "        return super().calculate_salary() + self.bonus\n",
        "\n",
        "#Example usage\n",
        "manager = Manager(40, 50, 1000)\n",
        "print(manager.calculate_salary())  # Output: 3000"
      ],
      "metadata": {
        "colab": {
          "base_uri": "https://localhost:8080/"
        },
        "id": "p0MBHf9KNu7g",
        "outputId": "4d175ca2-ecf8-42f8-fb5a-a254ed4a30c3"
      },
      "execution_count": 28,
      "outputs": [
        {
          "output_type": "stream",
          "name": "stdout",
          "text": [
            "3000\n"
          ]
        }
      ]
    },
    {
      "cell_type": "code",
      "source": [
        "#15. Create a class Product with attributes name, price, and quantity. Implement a method total_price() that calculates the total price of the product.\n",
        "class Product:\n",
        "    def __init__(self, name, price, quantity):\n",
        "        self.name = name\n",
        "        self.price = price\n",
        "        self.quantity = quantity\n",
        "\n",
        "    def total_price(self):\n",
        "        return self.price * self.quantity\n",
        "\n",
        "#Example usage\n",
        "product = Product(\"Laptop\", 1000, 3)\n",
        "print(product.total_price())  # Output: 3000"
      ],
      "metadata": {
        "colab": {
          "base_uri": "https://localhost:8080/"
        },
        "id": "2OcYsxugN7Jb",
        "outputId": "b35cf741-6cae-4a5b-febc-0d204556041b"
      },
      "execution_count": 29,
      "outputs": [
        {
          "output_type": "stream",
          "name": "stdout",
          "text": [
            "3000\n"
          ]
        }
      ]
    },
    {
      "cell_type": "code",
      "source": [
        "#16. Create a class Animal with an abstract method sound(). Create two derived classes Cow and Sheep that implement the sound() method.\n",
        "\n",
        "from abc import ABC, abstractmethod\n",
        "\n",
        "class Animal(ABC):\n",
        "    @abstractmethod\n",
        "    def sound(self):\n",
        "        pass\n",
        "\n",
        "class Cow(Animal):\n",
        "    def sound(self):\n",
        "        print(\"Moo\")\n",
        "\n",
        "class Sheep(Animal):\n",
        "    def sound(self):\n",
        "        print(\"Baa\")\n",
        "\n",
        "#Example usage\n",
        "cow = Cow()\n",
        "sheep = Sheep()\n",
        "cow.sound()  # Output: Moo\n",
        "sheep.sound()  # Output: Baa"
      ],
      "metadata": {
        "colab": {
          "base_uri": "https://localhost:8080/"
        },
        "id": "VL-xCw4DOJqi",
        "outputId": "59fe0a06-363b-41d7-e3d9-443d206d0ea2"
      },
      "execution_count": 30,
      "outputs": [
        {
          "output_type": "stream",
          "name": "stdout",
          "text": [
            "Moo\n",
            "Baa\n"
          ]
        }
      ]
    },
    {
      "cell_type": "code",
      "source": [
        "#17. Create a class Book with attributes title, author, and year_published. Add a method get_book_info() that returns a formatted string with the book's details.\n",
        "class Book:\n",
        "    def __init__(self, title, author, year_published):\n",
        "        self.title = title\n",
        "        self.author = author\n",
        "        self.year_published = year_published\n",
        "\n",
        "    def get_book_info(self):\n",
        "        return f\"'{self.title}' by {self.author}, published in {self.year_published}\"\n",
        "\n",
        "#Example usage\n",
        "book = Book(\"1984\", \"George Orwell\", 1949)\n",
        "print(book.get_book_info())  # Output: '1984' by George Orwell, published in 1949"
      ],
      "metadata": {
        "colab": {
          "base_uri": "https://localhost:8080/"
        },
        "id": "GrwC_pZmOc9p",
        "outputId": "9adbcb41-18ee-43e2-811f-e77a877dce29"
      },
      "execution_count": 31,
      "outputs": [
        {
          "output_type": "stream",
          "name": "stdout",
          "text": [
            "'1984' by George Orwell, published in 1949\n"
          ]
        }
      ]
    },
    {
      "cell_type": "code",
      "source": [
        "#18. Create a class House with attributes address and price. Create a derived class Mansion that adds an attribute number_of_rooms.\n",
        "class House:\n",
        "    def __init__(self, address, price):\n",
        "        self.address = address\n",
        "        self.price = price\n",
        "\n",
        "class Mansion(House):\n",
        "    def __init__(self, address, price, number_of_rooms):\n",
        "        super().__init__(address, price)\n",
        "        self.number_of_rooms = number_of_rooms\n",
        "\n",
        "#Example usage\n",
        "mansion = Mansion(\"123 Luxury St\", 5000000, 10)\n",
        "print(mansion.address)  # Output: 123 Luxury St\n",
        "print(mansion.price)  # Output: 5000000\n",
        "print(mansion.number_of_rooms)  # Output: 10"
      ],
      "metadata": {
        "colab": {
          "base_uri": "https://localhost:8080/"
        },
        "id": "y_qmWDmbOrPB",
        "outputId": "184d2b84-61e6-4acd-d9d1-ef642106ffc5"
      },
      "execution_count": 33,
      "outputs": [
        {
          "output_type": "stream",
          "name": "stdout",
          "text": [
            "123 Luxury St\n",
            "5000000\n",
            "10\n"
          ]
        }
      ]
    }
  ]
}